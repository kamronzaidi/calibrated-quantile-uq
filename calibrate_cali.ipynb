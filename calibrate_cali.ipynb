{
 "cells": [
  {
   "cell_type": "code",
   "execution_count": 5,
   "metadata": {},
   "outputs": [],
   "source": [
    "import pickle\n",
    "import os\n",
    "import numpy as np\n",
    "from recal import iso_recal\n",
    "import torch\n",
    "from data.fetch_data import get_uci_data\n",
    "from utils.misc_utils import set_seeds, test_uq\n",
    "from argparse import Namespace"
   ]
  },
  {
   "cell_type": "code",
   "execution_count": 9,
   "metadata": {},
   "outputs": [
    {
     "name": "stdout",
     "output_type": "stream",
     "text": [
      "Spanning group size from 0.01 to 1.0 in 10 increments\n"
     ]
    },
    {
     "name": "stderr",
     "output_type": "stream",
     "text": [
      "100%|██████████| 10/10 [00:00<00:00, 22.61it/s]\n"
     ]
    },
    {
     "name": "stdout",
     "output_type": "stream",
     "text": [
      "Spanning group size from 0.01 to 1.0 in 10 increments\n"
     ]
    },
    {
     "name": "stderr",
     "output_type": "stream",
     "text": [
      "100%|██████████| 10/10 [00:00<00:00, 22.48it/s]\n"
     ]
    },
    {
     "name": "stdout",
     "output_type": "stream",
     "text": [
      "Obs props not ideal: from 0.0 to 0.9780219793319702\n",
      "Spanning group size from 0.01 to 1.0 in 10 increments\n"
     ]
    },
    {
     "name": "stderr",
     "output_type": "stream",
     "text": [
      "100%|██████████| 10/10 [00:00<00:00, 19.45it/s]\n"
     ]
    },
    {
     "name": "stdout",
     "output_type": "stream",
     "text": [
      "Obs props not ideal: from 0.0 to 0.9890109896659851\n",
      "Spanning group size from 0.01 to 1.0 in 10 increments\n"
     ]
    },
    {
     "name": "stderr",
     "output_type": "stream",
     "text": [
      "100%|██████████| 10/10 [00:00<00:00, 21.67it/s]\n"
     ]
    },
    {
     "name": "stdout",
     "output_type": "stream",
     "text": [
      "Obs props not ideal: from 0.0 to 0.9780219793319702\n",
      "Spanning group size from 0.01 to 1.0 in 10 increments\n"
     ]
    },
    {
     "name": "stderr",
     "output_type": "stream",
     "text": [
      "100%|██████████| 10/10 [00:00<00:00, 16.15it/s]\n"
     ]
    },
    {
     "name": "stdout",
     "output_type": "stream",
     "text": [
      "boston 0.09042582660913467 0.10909751827881717 0.012783773561342374 0.0073848923529670155\n",
      "boston 0.05760982409119606 0.31610037003438085 0.015309734822194694 0.06825611089070864\n",
      "Obs props not ideal: from 0.0357142873108387 to 0.9821428656578064\n",
      "Spanning group size from 0.01 to 1.0 in 10 increments\n"
     ]
    },
    {
     "name": "stderr",
     "output_type": "stream",
     "text": [
      "100%|██████████| 10/10 [00:00<00:00, 24.96it/s]\n"
     ]
    },
    {
     "name": "stdout",
     "output_type": "stream",
     "text": [
      "Obs props not ideal: from 0.0 to 0.9821428656578064\n",
      "Spanning group size from 0.01 to 1.0 in 10 increments\n"
     ]
    },
    {
     "name": "stderr",
     "output_type": "stream",
     "text": [
      "100%|██████████| 10/10 [00:00<00:00, 23.33it/s]\n"
     ]
    },
    {
     "name": "stdout",
     "output_type": "stream",
     "text": [
      "Obs props not ideal: from 0.01785714365541935 to 1.0\n",
      "Spanning group size from 0.01 to 1.0 in 10 increments\n"
     ]
    },
    {
     "name": "stderr",
     "output_type": "stream",
     "text": [
      "100%|██████████| 10/10 [00:00<00:00, 24.19it/s]\n"
     ]
    },
    {
     "name": "stdout",
     "output_type": "stream",
     "text": [
      "Spanning group size from 0.01 to 1.0 in 10 increments\n"
     ]
    },
    {
     "name": "stderr",
     "output_type": "stream",
     "text": [
      "100%|██████████| 10/10 [00:00<00:00, 23.59it/s]\n"
     ]
    },
    {
     "name": "stdout",
     "output_type": "stream",
     "text": [
      "Spanning group size from 0.01 to 1.0 in 10 increments\n"
     ]
    },
    {
     "name": "stderr",
     "output_type": "stream",
     "text": [
      "100%|██████████| 10/10 [00:00<00:00, 24.20it/s]\n"
     ]
    },
    {
     "name": "stdout",
     "output_type": "stream",
     "text": [
      "yacht 0.07334897592663765 0.04832416788369044 0.02527296651484821 0.02065260051014715\n",
      "yacht 0.061943302303552626 0.10618134926217622 0.0253385844248437 0.03757445548928895\n",
      "Obs props not ideal: from 0.007194244768470526 to 1.0\n",
      "Spanning group size from 0.01 to 1.0 in 10 increments\n"
     ]
    },
    {
     "name": "stderr",
     "output_type": "stream",
     "text": [
      "100%|██████████| 10/10 [00:00<00:00, 21.34it/s]\n"
     ]
    },
    {
     "name": "stdout",
     "output_type": "stream",
     "text": [
      "Spanning group size from 0.01 to 1.0 in 10 increments\n"
     ]
    },
    {
     "name": "stderr",
     "output_type": "stream",
     "text": [
      "100%|██████████| 10/10 [00:00<00:00, 16.85it/s]\n"
     ]
    },
    {
     "name": "stdout",
     "output_type": "stream",
     "text": [
      "Spanning group size from 0.01 to 1.0 in 10 increments\n"
     ]
    },
    {
     "name": "stderr",
     "output_type": "stream",
     "text": [
      "100%|██████████| 10/10 [00:00<00:00, 19.51it/s]\n"
     ]
    },
    {
     "name": "stdout",
     "output_type": "stream",
     "text": [
      "Spanning group size from 0.01 to 1.0 in 10 increments\n"
     ]
    },
    {
     "name": "stderr",
     "output_type": "stream",
     "text": [
      "100%|██████████| 10/10 [00:00<00:00, 21.73it/s]\n"
     ]
    },
    {
     "name": "stdout",
     "output_type": "stream",
     "text": [
      "Obs props not ideal: from 0.0 to 0.9784172773361206\n",
      "Spanning group size from 0.01 to 1.0 in 10 increments\n"
     ]
    },
    {
     "name": "stderr",
     "output_type": "stream",
     "text": [
      "100%|██████████| 10/10 [00:00<00:00, 18.96it/s]\n"
     ]
    },
    {
     "name": "stdout",
     "output_type": "stream",
     "text": [
      "energy 0.05238358229398728 0.06871630109718452 0.00928437667204266 0.02024390646257604\n",
      "energy 0.03749915212392807 0.1566110827385285 0.011357597639781801 0.04919659452892823\n",
      "Spanning group size from 0.01 to 1.0 in 10 increments\n"
     ]
    },
    {
     "name": "stderr",
     "output_type": "stream",
     "text": [
      "100%|██████████| 10/10 [00:00<00:00, 20.51it/s]\n"
     ]
    },
    {
     "name": "stdout",
     "output_type": "stream",
     "text": [
      "Spanning group size from 0.01 to 1.0 in 10 increments\n"
     ]
    },
    {
     "name": "stderr",
     "output_type": "stream",
     "text": [
      "100%|██████████| 10/10 [00:00<00:00, 20.88it/s]\n"
     ]
    },
    {
     "name": "stdout",
     "output_type": "stream",
     "text": [
      "Spanning group size from 0.01 to 1.0 in 10 increments\n"
     ]
    },
    {
     "name": "stderr",
     "output_type": "stream",
     "text": [
      "100%|██████████| 10/10 [00:00<00:00, 19.86it/s]\n"
     ]
    },
    {
     "name": "stdout",
     "output_type": "stream",
     "text": [
      "Spanning group size from 0.01 to 1.0 in 10 increments\n"
     ]
    },
    {
     "name": "stderr",
     "output_type": "stream",
     "text": [
      "100%|██████████| 10/10 [00:00<00:00, 18.35it/s]\n"
     ]
    },
    {
     "name": "stdout",
     "output_type": "stream",
     "text": [
      "Spanning group size from 0.01 to 1.0 in 10 increments\n"
     ]
    },
    {
     "name": "stderr",
     "output_type": "stream",
     "text": [
      "100%|██████████| 10/10 [00:00<00:00, 18.78it/s]\n"
     ]
    },
    {
     "name": "stdout",
     "output_type": "stream",
     "text": [
      "concrete 0.06596097275614739 0.1732076270937917 0.019476930540945958 0.02133254374965564\n",
      "concrete 0.044991659745573995 0.38691375699603725 0.01309223248307521 0.05189118781954692\n",
      "Obs props not ideal: from 0.0 to 0.9993220567703247\n",
      "Spanning group size from 0.01 to 1.0 in 10 increments\n"
     ]
    },
    {
     "name": "stderr",
     "output_type": "stream",
     "text": [
      "100%|██████████| 10/10 [00:00<00:00, 13.69it/s]\n"
     ]
    },
    {
     "name": "stdout",
     "output_type": "stream",
     "text": [
      "Spanning group size from 0.01 to 1.0 in 10 increments\n"
     ]
    },
    {
     "name": "stderr",
     "output_type": "stream",
     "text": [
      "100%|██████████| 10/10 [00:00<00:00, 13.40it/s]\n"
     ]
    },
    {
     "name": "stdout",
     "output_type": "stream",
     "text": [
      "Spanning group size from 0.01 to 1.0 in 10 increments\n"
     ]
    },
    {
     "name": "stderr",
     "output_type": "stream",
     "text": [
      "100%|██████████| 10/10 [00:00<00:00, 10.72it/s]\n"
     ]
    },
    {
     "name": "stdout",
     "output_type": "stream",
     "text": [
      "Obs props not ideal: from 0.0 to 0.993898332118988\n",
      "Spanning group size from 0.01 to 1.0 in 10 increments\n"
     ]
    },
    {
     "name": "stderr",
     "output_type": "stream",
     "text": [
      "100%|██████████| 10/10 [00:00<00:00, 13.69it/s]\n"
     ]
    },
    {
     "name": "stdout",
     "output_type": "stream",
     "text": [
      "Spanning group size from 0.01 to 1.0 in 10 increments\n"
     ]
    },
    {
     "name": "stderr",
     "output_type": "stream",
     "text": [
      "100%|██████████| 10/10 [00:00<00:00, 11.75it/s]\n"
     ]
    },
    {
     "name": "stdout",
     "output_type": "stream",
     "text": [
      "kin8nm 0.039608775079250334 0.13716587306469716 0.011753990166451976 0.02878271708575174\n",
      "kin8nm 0.010567625425755978 0.2735705149350653 0.0037629405669170448 0.0770543258673771\n",
      "Spanning group size from 0.01 to 1.0 in 10 increments\n"
     ]
    },
    {
     "name": "stderr",
     "output_type": "stream",
     "text": [
      "100%|██████████| 10/10 [00:00<00:00, 18.84it/s]\n"
     ]
    },
    {
     "name": "stdout",
     "output_type": "stream",
     "text": [
      "Spanning group size from 0.01 to 1.0 in 10 increments\n"
     ]
    },
    {
     "name": "stderr",
     "output_type": "stream",
     "text": [
      "100%|██████████| 10/10 [00:00<00:00, 20.25it/s]\n"
     ]
    },
    {
     "name": "stdout",
     "output_type": "stream",
     "text": [
      "Spanning group size from 0.01 to 1.0 in 10 increments\n"
     ]
    },
    {
     "name": "stderr",
     "output_type": "stream",
     "text": [
      "100%|██████████| 10/10 [00:00<00:00, 18.96it/s]\n"
     ]
    },
    {
     "name": "stdout",
     "output_type": "stream",
     "text": [
      "Obs props not ideal: from 0.0034722222480922937 to 1.0\n",
      "Spanning group size from 0.01 to 1.0 in 10 increments\n"
     ]
    },
    {
     "name": "stderr",
     "output_type": "stream",
     "text": [
      "100%|██████████| 10/10 [00:00<00:00, 17.97it/s]\n"
     ]
    },
    {
     "name": "stdout",
     "output_type": "stream",
     "text": [
      "Obs props not ideal: from 0.0034722222480922937 to 1.0\n",
      "Spanning group size from 0.01 to 1.0 in 10 increments\n"
     ]
    },
    {
     "name": "stderr",
     "output_type": "stream",
     "text": [
      "100%|██████████| 10/10 [00:00<00:00, 19.81it/s]\n"
     ]
    },
    {
     "name": "stdout",
     "output_type": "stream",
     "text": [
      "wine 0.04062879309058189 0.2585735368300188 0.007603517499944917 0.016308025299762795\n",
      "wine 0.02645706795156002 0.5341371948922939 0.006582762108826809 0.04761851059514801\n",
      "Obs props not ideal: from 0.0011607661144807935 to 1.0\n",
      "Spanning group size from 0.01 to 1.0 in 10 increments\n"
     ]
    },
    {
     "name": "stderr",
     "output_type": "stream",
     "text": [
      "100%|██████████| 10/10 [00:00<00:00, 11.65it/s]\n"
     ]
    },
    {
     "name": "stdout",
     "output_type": "stream",
     "text": [
      "Obs props not ideal: from 0.0011607661144807935 to 1.0\n",
      "Spanning group size from 0.01 to 1.0 in 10 increments\n"
     ]
    },
    {
     "name": "stderr",
     "output_type": "stream",
     "text": [
      "100%|██████████| 10/10 [00:00<00:00, 12.55it/s]\n"
     ]
    },
    {
     "name": "stdout",
     "output_type": "stream",
     "text": [
      "Spanning group size from 0.01 to 1.0 in 10 increments\n"
     ]
    },
    {
     "name": "stderr",
     "output_type": "stream",
     "text": [
      "100%|██████████| 10/10 [00:00<00:00, 13.35it/s]\n"
     ]
    },
    {
     "name": "stdout",
     "output_type": "stream",
     "text": [
      "Spanning group size from 0.01 to 1.0 in 10 increments\n"
     ]
    },
    {
     "name": "stderr",
     "output_type": "stream",
     "text": [
      "100%|██████████| 10/10 [00:00<00:00, 12.91it/s]\n"
     ]
    },
    {
     "name": "stdout",
     "output_type": "stream",
     "text": [
      "Obs props not ideal: from 0.0005803830572403967 to 1.0\n",
      "Spanning group size from 0.01 to 1.0 in 10 increments\n"
     ]
    },
    {
     "name": "stderr",
     "output_type": "stream",
     "text": [
      "100%|██████████| 10/10 [00:00<00:00, 11.12it/s]\n"
     ]
    },
    {
     "name": "stdout",
     "output_type": "stream",
     "text": [
      "power 0.026511389017105102 0.13952792546910153 0.01058921485802644 0.006116272625068289\n",
      "power 0.007504808437079191 0.21380417505203528 0.003044551054059696 0.008221397981050886\n",
      "Spanning group size from 0.01 to 1.0 in 10 increments\n"
     ]
    },
    {
     "name": "stderr",
     "output_type": "stream",
     "text": [
      "100%|██████████| 10/10 [00:00<00:00, 11.19it/s]\n"
     ]
    },
    {
     "name": "stdout",
     "output_type": "stream",
     "text": [
      "Spanning group size from 0.01 to 1.0 in 10 increments\n"
     ]
    },
    {
     "name": "stderr",
     "output_type": "stream",
     "text": [
      "100%|██████████| 10/10 [00:00<00:00, 11.29it/s]\n"
     ]
    },
    {
     "name": "stdout",
     "output_type": "stream",
     "text": [
      "Spanning group size from 0.01 to 1.0 in 10 increments\n"
     ]
    },
    {
     "name": "stderr",
     "output_type": "stream",
     "text": [
      "100%|██████████| 10/10 [00:00<00:00, 11.77it/s]\n"
     ]
    },
    {
     "name": "stdout",
     "output_type": "stream",
     "text": [
      "Spanning group size from 0.01 to 1.0 in 10 increments\n"
     ]
    },
    {
     "name": "stderr",
     "output_type": "stream",
     "text": [
      "100%|██████████| 10/10 [00:00<00:00, 10.07it/s]\n"
     ]
    },
    {
     "name": "stdout",
     "output_type": "stream",
     "text": [
      "Spanning group size from 0.01 to 1.0 in 10 increments\n"
     ]
    },
    {
     "name": "stderr",
     "output_type": "stream",
     "text": [
      "100%|██████████| 10/10 [00:00<00:00, 12.33it/s]\n"
     ]
    },
    {
     "name": "stdout",
     "output_type": "stream",
     "text": [
      "naval 0.027355096489191055 0.818952330658109 0.011227636258886895 0.02603226724493308\n",
      "naval 0.012482004426419734 0.9874047208397092 0.006187374407284052 0.0231010389223615\n",
      "Spanning group size from 0.01 to 1.0 in 10 increments\n"
     ]
    },
    {
     "name": "stderr",
     "output_type": "stream",
     "text": [
      "100%|██████████| 10/10 [00:01<00:00,  7.52it/s]\n"
     ]
    },
    {
     "name": "stdout",
     "output_type": "stream",
     "text": [
      "Spanning group size from 0.01 to 1.0 in 10 increments\n"
     ]
    },
    {
     "name": "stderr",
     "output_type": "stream",
     "text": [
      "100%|██████████| 10/10 [00:01<00:00,  7.58it/s]\n"
     ]
    },
    {
     "name": "stdout",
     "output_type": "stream",
     "text": [
      "Obs props not ideal: from 0.00012147716188337654 to 1.0\n",
      "Spanning group size from 0.01 to 1.0 in 10 increments\n"
     ]
    },
    {
     "name": "stderr",
     "output_type": "stream",
     "text": [
      "100%|██████████| 10/10 [00:01<00:00,  7.34it/s]\n"
     ]
    },
    {
     "name": "stdout",
     "output_type": "stream",
     "text": [
      "Spanning group size from 0.01 to 1.0 in 10 increments\n"
     ]
    },
    {
     "name": "stderr",
     "output_type": "stream",
     "text": [
      "100%|██████████| 10/10 [00:01<00:00,  7.16it/s]\n"
     ]
    },
    {
     "name": "stdout",
     "output_type": "stream",
     "text": [
      "Spanning group size from 0.01 to 1.0 in 10 increments\n"
     ]
    },
    {
     "name": "stderr",
     "output_type": "stream",
     "text": [
      "100%|██████████| 10/10 [00:01<00:00,  7.19it/s]"
     ]
    },
    {
     "name": "stdout",
     "output_type": "stream",
     "text": [
      "protein 0.014511549845337868 0.5398490503609525 0.003594750575321801 0.027279903320313527\n",
      "protein 0.006941197719424963 0.696608871651297 0.002423151901455195 0.0273165657900291\n"
     ]
    },
    {
     "name": "stderr",
     "output_type": "stream",
     "text": [
      "\n"
     ]
    }
   ],
   "source": [
    "#for p in ('0.0', '0.25', '0.5', '0.75', '1.0'):\n",
    "p = '0.0'\n",
    "gdp = 1\n",
    "for dataset in ('boston', 'yacht', 'energy', 'concrete',  'kin8nm', 'wine', 'power', 'naval', 'protein'):\n",
    "    data = []\n",
    "    for seed in range(5):\n",
    "        with open(f'cali_run/{dataset}_lossscaled_batch_cal_penalty_pen{p}_wideonly_ens1_bootFalse_gdp{gdp}_seed{seed}.pkl', 'rb') as f:\n",
    "            d = pickle.load(f)\n",
    "        \n",
    "        model_ens = d['model']\n",
    "        recal_model = iso_recal(d['va_exp_props'], d['va_obs_props'])\n",
    "        recal_exp_props = torch.linspace(0.01, 0.99, 99)\n",
    "        \n",
    "        set_seeds(seed)\n",
    "\n",
    "        # Fetching data\n",
    "        data_args = Namespace(data_dir='data/UCI_Datasets', data=dataset, seed=seed)\n",
    "\n",
    "        data_out = get_uci_data(data_args)\n",
    "\n",
    "        x_tr, x_va, x_te, y_tr, y_va, y_te, y_al = (\n",
    "            data_out.x_tr,\n",
    "            data_out.x_va,\n",
    "            data_out.x_te,\n",
    "            data_out.y_tr,\n",
    "            data_out.y_va,\n",
    "            data_out.y_te,\n",
    "            data_out.y_al,\n",
    "        )\n",
    "        y_range = (y_al.max() - y_al.min()).item()\n",
    "        \n",
    "        (\n",
    "            recal_te_cali_score,\n",
    "            recal_te_sharp_score,\n",
    "            recal_te_obs_props,\n",
    "            recal_te_q_preds,\n",
    "            recal_te_g_cali_scores,\n",
    "            recal_te_scoring_rules\n",
    "        ) = test_uq(\n",
    "            model_ens,\n",
    "            x_te,\n",
    "            y_te,\n",
    "            recal_exp_props,\n",
    "            y_range,\n",
    "            recal_model=recal_model,\n",
    "            recal_type=\"sklearn\",\n",
    "            test_group_cal=True,\n",
    "        )\n",
    "        if d['recal_te_cali_score'] is not None:\n",
    "            print(dataset, seed, d['recal_te_cali_score'])\n",
    "        if d['recal_te_sharp_score'] is not None:\n",
    "            print(dataset, seed, d['recal_te_sharp_score']) \n",
    "        d['recal_te_cali_score'] = recal_te_cali_score\n",
    "        d['recal_te_sharp_score'] = recal_te_sharp_score\n",
    "        data.append(d)\n",
    "    ece = []\n",
    "    sharp = []\n",
    "    ece_recal = []\n",
    "    sharp_recal = []\n",
    "    for d in data:\n",
    "        ece.append(d['te_cali_score'])\n",
    "        sharp.append(d['te_sharp_score'])\n",
    "        ece_recal.append(d['recal_te_cali_score'])\n",
    "        sharp_recal.append(d['recal_te_sharp_score'])\n",
    "    print(dataset, np.mean(ece), np.mean(sharp), np.std(ece), np.std(sharp))\n",
    "    print(dataset, np.mean(ece_recal), np.mean(sharp_recal), np.std(ece_recal), np.std(sharp_recal))"
   ]
  }
 ],
 "metadata": {
  "kernelspec": {
   "display_name": "ml",
   "language": "python",
   "name": "python3"
  },
  "language_info": {
   "codemirror_mode": {
    "name": "ipython",
    "version": 3
   },
   "file_extension": ".py",
   "mimetype": "text/x-python",
   "name": "python",
   "nbconvert_exporter": "python",
   "pygments_lexer": "ipython3",
   "version": "3.12.7"
  }
 },
 "nbformat": 4,
 "nbformat_minor": 2
}
