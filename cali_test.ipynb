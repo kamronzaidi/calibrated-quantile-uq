{
 "cells": [
  {
   "cell_type": "code",
   "execution_count": 4,
   "metadata": {},
   "outputs": [],
   "source": [
    "import pickle\n",
    "import os\n",
    "import numpy as np"
   ]
  },
  {
   "cell_type": "code",
   "execution_count": null,
   "metadata": {},
   "outputs": [
    {
     "name": "stdout",
     "output_type": "stream",
     "text": [
      "0.0 1 0.09042582660913467 0.10909751827881717 0.012783773561342374 0.0073848923529670155 0.0055233448879518365\n",
      "0.0 5 0.09981779307126999 0.10792574759853113 0.01914525595001178 0.01309369552491936 0.015892045472738855\n",
      "0.05 2 0.10387721285223961 0.09870343283867936 0.034505684072968286 0.007954133959423274 0.029173780013560247\n",
      "0.05 3 0.08806100934743881 0.1001510719556794 0.015350870296872238 0.006454451190115736 0.011909937391759398\n",
      "0.1 2 0.104414352029562 0.0906010674177283 0.03357762905411509 0.010125018507821213 0.037813284611833684\n",
      "0.1 3 0.12392235994338989 0.09472473542375769 0.019367561874369294 0.01340491763918645 0.0531976245196322\n",
      "0.15 2 0.10490552634000778 0.08806244992465095 0.030773015624178866 0.009411179698429705 0.040843076415356824\n",
      "0.15 3 0.1175654649734497 0.09342822328141727 0.019292906375929196 0.012791014440102545 0.04813724169203243\n",
      "0.2 2 0.11181858777999878 0.08454957727838273 0.026526385775730753 0.010401818831478496 0.051269010501616044\n",
      "0.2 3 0.10887938886880874 0.0914124959588046 0.01785785138597902 0.013165968776514254 0.04146689291000413\n"
     ]
    }
   ],
   "source": [
    "#for p in ('0.0', '0.25', '0.5', '0.75', '1.0'):\n",
    "for p in ('0.0', '0.05', '0.1', '0.15', '0.2'):\n",
    "    #for gdp in (1, 5, 10, 30, 100):\n",
    "    for gdp in (1, 2, 3, 5):\n",
    "        try:\n",
    "            data = []\n",
    "            for seed in range(5):\n",
    "                with open(f'cali_test/boston_lossscaled_batch_cal_penalty_pen{p}_wideonly_ens1_bootFalse_gdp{gdp}_seed{seed}.pkl', 'rb') as f:\n",
    "                    d = pickle.load(f)\n",
    "                data.append(d)\n",
    "            ece = []\n",
    "            sharp = []\n",
    "            for d in data:\n",
    "                ece.append(d['te_cali_score'])\n",
    "                sharp.append(d['te_sharp_score'])\n",
    "            print(p, gdp, np.mean(ece), np.mean(sharp), np.std(ece), np.std(sharp), (np.abs(np.mean(ece) - 0.085) + np.abs(np.mean(sharp) - 0.109)))\n",
    "        except:\n",
    "            continue"
   ]
  },
  {
   "cell_type": "code",
   "execution_count": 22,
   "metadata": {},
   "outputs": [
    {
     "name": "stdout",
     "output_type": "stream",
     "text": [
      "boston 0.09042582660913467 0.10909751827881717 0.012783773561342374 0.0073848923529670155\n",
      "yacht 0.07334897592663765 0.04832416788369044 0.02527296651484821 0.02065260051014715\n",
      "energy 0.05238358229398728 0.06871630109718452 0.00928437667204266 0.02024390646257604\n",
      "concrete 0.06596097275614739 0.1732076270937917 0.019476930540945958 0.02133254374965564\n",
      "kin8nm 0.039608775079250334 0.13716587306469716 0.011753990166451976 0.02878271708575174\n",
      "wine 0.04062879309058189 0.2585735368300188 0.007603517499944917 0.016308025299762795\n",
      "power 0.026511389017105102 0.13952792546910153 0.01058921485802644 0.006116272625068289\n",
      "naval 0.027355096489191055 0.818952330658109 0.011227636258886895 0.02603226724493308\n",
      "protein 0.014511549845337868 0.5398490503609525 0.003594750575321801 0.027279903320313527\n"
     ]
    }
   ],
   "source": [
    "#for p in ('0.0', '0.25', '0.5', '0.75', '1.0'):\n",
    "p = '0.0'\n",
    "gdp = 1\n",
    "for dataset in ('boston', 'yacht', 'energy', 'concrete',  'kin8nm', 'wine', 'power', 'naval', 'protein'):\n",
    "    try:\n",
    "        data = []\n",
    "        for seed in range(5):\n",
    "            with open(f'cali_run/{dataset}_lossscaled_batch_cal_penalty_pen{p}_wideonly_ens1_bootFalse_gdp{gdp}_seed{seed}.pkl', 'rb') as f:\n",
    "                d = pickle.load(f)\n",
    "            data.append(d)\n",
    "        ece = []\n",
    "        sharp = []\n",
    "        for d in data:\n",
    "            ece.append(d['te_cali_score'])\n",
    "            sharp.append(d['te_sharp_score'])\n",
    "        print(dataset, np.mean(ece), np.mean(sharp), np.std(ece), np.std(sharp))\n",
    "    except:\n",
    "        continue"
   ]
  }
 ],
 "metadata": {
  "kernelspec": {
   "display_name": "ml",
   "language": "python",
   "name": "python3"
  },
  "language_info": {
   "codemirror_mode": {
    "name": "ipython",
    "version": 3
   },
   "file_extension": ".py",
   "mimetype": "text/x-python",
   "name": "python",
   "nbconvert_exporter": "python",
   "pygments_lexer": "ipython3",
   "version": "3.12.7"
  }
 },
 "nbformat": 4,
 "nbformat_minor": 2
}
